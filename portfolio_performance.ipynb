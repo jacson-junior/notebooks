{
 "cells": [
  {
   "cell_type": "code",
   "execution_count": 151,
   "metadata": {},
   "outputs": [],
   "source": [
    "import requests\n",
    "\n",
    "def get_prices(symbol, key, date_param='5d'):\n",
    "\n",
    "    url_prefix = \"https://cloud.iexapis.com/stable/\"\n",
    "\n",
    "    path = f'stock/{symbol}/chart/{date_param}?chartCloseOnly=True&&token={key}'\n",
    "    print(f\"Fetching {date_param} data for {symbol}\")\n",
    "    full_url = requests.compat.urljoin(url_prefix, path)\n",
    "\n",
    "    try:\n",
    "        resp = requests.get(full_url)\n",
    "    except Exception as e:\n",
    "        print(f\"Exception {e} occurred!\")\n",
    "        return None\n",
    "\n",
    "    if resp.status_code != 200:\n",
    "        print(f\"Uh oh, something's wrong! Response code {resp.status_code} received.\")\n",
    "        return resp\n",
    "\n",
    "    else:\n",
    "        print(f\"Got the data\")\n",
    "        return resp"
   ]
  },
  {
   "cell_type": "code",
   "execution_count": 152,
   "metadata": {},
   "outputs": [],
   "source": [
    "import os\n",
    "import json\n",
    "\n",
    "def get_cached_prices(symbol, date_range, outpath):\n",
    "    with open(\"./tokens/iex_token.txt\", \"r\") as f:\n",
    "        iex_tkn = f.read().strip()\n",
    "\n",
    "    if not os.path.exists(outpath):\n",
    "        resp = get_prices(symbol, iex_tkn, date_param=date_range)\n",
    "        if resp is not None:\n",
    "            prices_obj = json.loads(resp.text)\n",
    "            with open(outpath, \"w\") as f:\n",
    "                json.dump(prices_obj, f)\n",
    "            return prices_obj\n",
    "    else:\n",
    "        with open(outpath, \"r\") as f:\n",
    "            data_obj = json.load(f)\n",
    "        return data_obj"
   ]
  },
  {
   "cell_type": "code",
   "execution_count": 153,
   "metadata": {},
   "outputs": [],
   "source": [
    "symbols = [\"MSFT\", \"AAPL\", \"NVDA\", \"JNJ\", \"KHC\", \"ALL\"]"
   ]
  },
  {
   "cell_type": "code",
   "execution_count": 154,
   "metadata": {},
   "outputs": [],
   "source": [
    "def getDf(symbol, data):\n",
    "    df = pd.DataFrame(data)\n",
    "    df = df[['date', 'close']]\n",
    "    df['date'] = pd.to_datetime(df.date)\n",
    "    df.columns = ['date', symbol]\n",
    "    df.set_index('date')\n",
    "    return df;"
   ]
  },
  {
   "cell_type": "code",
   "execution_count": 155,
   "metadata": {},
   "outputs": [
    {
     "name": "stdout",
     "output_type": "stream",
     "text": [
      "Fetching 5y data for MSFT\n",
      "Got the data\n",
      "Fetching 5y data for AAPL\n",
      "Got the data\n",
      "Fetching 5y data for NVDA\n",
      "Got the data\n",
      "Fetching 5y data for JNJ\n",
      "Got the data\n",
      "Fetching 5y data for KHC\n",
      "Got the data\n",
      "Fetching 5y data for ALL\n",
      "Got the data\n"
     ]
    }
   ],
   "source": [
    "import pandas as pd\n",
    "\n",
    "date_range = \"5y\"\n",
    "\n",
    "symbols_dict = dict()\n",
    "\n",
    "for symbol in symbols:\n",
    "    outpath = f\"./.data/stocks/{symbol}_{date_range}.json\"\n",
    "    symbols_dict[symbol] = get_cached_prices(symbol, date_range, outpath)"
   ]
  },
  {
   "cell_type": "code",
   "execution_count": 156,
   "metadata": {},
   "outputs": [
    {
     "data": {
      "text/html": [
       "<div>\n",
       "<style scoped>\n",
       "    .dataframe tbody tr th:only-of-type {\n",
       "        vertical-align: middle;\n",
       "    }\n",
       "\n",
       "    .dataframe tbody tr th {\n",
       "        vertical-align: top;\n",
       "    }\n",
       "\n",
       "    .dataframe thead th {\n",
       "        text-align: right;\n",
       "    }\n",
       "</style>\n",
       "<table border=\"1\" class=\"dataframe\">\n",
       "  <thead>\n",
       "    <tr style=\"text-align: right;\">\n",
       "      <th>symbol</th>\n",
       "      <th>AAPL</th>\n",
       "      <th>ALL</th>\n",
       "      <th>JNJ</th>\n",
       "      <th>KHC</th>\n",
       "      <th>MSFT</th>\n",
       "      <th>NVDA</th>\n",
       "    </tr>\n",
       "    <tr>\n",
       "      <th>date</th>\n",
       "      <th></th>\n",
       "      <th></th>\n",
       "      <th></th>\n",
       "      <th></th>\n",
       "      <th></th>\n",
       "      <th></th>\n",
       "    </tr>\n",
       "  </thead>\n",
       "  <tbody>\n",
       "    <tr>\n",
       "      <th>2017-03-03</th>\n",
       "      <td>34.945</td>\n",
       "      <td>81.86</td>\n",
       "      <td>123.79</td>\n",
       "      <td>91.50</td>\n",
       "      <td>64.25</td>\n",
       "      <td>24.6075</td>\n",
       "    </tr>\n",
       "    <tr>\n",
       "      <th>2017-03-06</th>\n",
       "      <td>34.835</td>\n",
       "      <td>81.34</td>\n",
       "      <td>123.71</td>\n",
       "      <td>91.16</td>\n",
       "      <td>64.27</td>\n",
       "      <td>24.4175</td>\n",
       "    </tr>\n",
       "    <tr>\n",
       "      <th>2017-03-07</th>\n",
       "      <td>34.880</td>\n",
       "      <td>81.46</td>\n",
       "      <td>123.83</td>\n",
       "      <td>90.80</td>\n",
       "      <td>64.40</td>\n",
       "      <td>24.6850</td>\n",
       "    </tr>\n",
       "    <tr>\n",
       "      <th>2017-03-08</th>\n",
       "      <td>34.750</td>\n",
       "      <td>81.13</td>\n",
       "      <td>124.10</td>\n",
       "      <td>90.90</td>\n",
       "      <td>64.99</td>\n",
       "      <td>24.6400</td>\n",
       "    </tr>\n",
       "    <tr>\n",
       "      <th>2017-03-09</th>\n",
       "      <td>34.670</td>\n",
       "      <td>81.57</td>\n",
       "      <td>125.95</td>\n",
       "      <td>91.53</td>\n",
       "      <td>64.73</td>\n",
       "      <td>24.6350</td>\n",
       "    </tr>\n",
       "    <tr>\n",
       "      <th>...</th>\n",
       "      <td>...</td>\n",
       "      <td>...</td>\n",
       "      <td>...</td>\n",
       "      <td>...</td>\n",
       "      <td>...</td>\n",
       "      <td>...</td>\n",
       "    </tr>\n",
       "    <tr>\n",
       "      <th>2022-02-23</th>\n",
       "      <td>160.070</td>\n",
       "      <td>123.28</td>\n",
       "      <td>161.22</td>\n",
       "      <td>40.10</td>\n",
       "      <td>280.27</td>\n",
       "      <td>223.8700</td>\n",
       "    </tr>\n",
       "    <tr>\n",
       "      <th>2022-02-24</th>\n",
       "      <td>162.740</td>\n",
       "      <td>120.82</td>\n",
       "      <td>158.14</td>\n",
       "      <td>38.98</td>\n",
       "      <td>294.59</td>\n",
       "      <td>237.4800</td>\n",
       "    </tr>\n",
       "    <tr>\n",
       "      <th>2022-02-25</th>\n",
       "      <td>164.850</td>\n",
       "      <td>124.17</td>\n",
       "      <td>166.00</td>\n",
       "      <td>39.73</td>\n",
       "      <td>297.31</td>\n",
       "      <td>241.5700</td>\n",
       "    </tr>\n",
       "    <tr>\n",
       "      <th>2022-02-28</th>\n",
       "      <td>165.120</td>\n",
       "      <td>122.36</td>\n",
       "      <td>164.57</td>\n",
       "      <td>39.22</td>\n",
       "      <td>298.79</td>\n",
       "      <td>243.8500</td>\n",
       "    </tr>\n",
       "    <tr>\n",
       "      <th>2022-03-01</th>\n",
       "      <td>163.200</td>\n",
       "      <td>119.86</td>\n",
       "      <td>164.00</td>\n",
       "      <td>38.68</td>\n",
       "      <td>294.95</td>\n",
       "      <td>234.7700</td>\n",
       "    </tr>\n",
       "  </tbody>\n",
       "</table>\n",
       "<p>1258 rows × 6 columns</p>\n",
       "</div>"
      ],
      "text/plain": [
       "symbol         AAPL     ALL     JNJ    KHC    MSFT      NVDA\n",
       "date                                                        \n",
       "2017-03-03   34.945   81.86  123.79  91.50   64.25   24.6075\n",
       "2017-03-06   34.835   81.34  123.71  91.16   64.27   24.4175\n",
       "2017-03-07   34.880   81.46  123.83  90.80   64.40   24.6850\n",
       "2017-03-08   34.750   81.13  124.10  90.90   64.99   24.6400\n",
       "2017-03-09   34.670   81.57  125.95  91.53   64.73   24.6350\n",
       "...             ...     ...     ...    ...     ...       ...\n",
       "2022-02-23  160.070  123.28  161.22  40.10  280.27  223.8700\n",
       "2022-02-24  162.740  120.82  158.14  38.98  294.59  237.4800\n",
       "2022-02-25  164.850  124.17  166.00  39.73  297.31  241.5700\n",
       "2022-02-28  165.120  122.36  164.57  39.22  298.79  243.8500\n",
       "2022-03-01  163.200  119.86  164.00  38.68  294.95  234.7700\n",
       "\n",
       "[1258 rows x 6 columns]"
      ]
     },
     "execution_count": 156,
     "metadata": {},
     "output_type": "execute_result"
    }
   ],
   "source": [
    "import utils\n",
    "\n",
    "df = utils.symbol_dict_to_df(symbols_dict)\n",
    "df['date'] = pd.to_datetime(df.date)\n",
    "df = df.pivot_table(values='close', index='date', columns='symbol', aggfunc='last')\n",
    "df"
   ]
  },
  {
   "cell_type": "code",
   "execution_count": 159,
   "metadata": {},
   "outputs": [],
   "source": [
    "from pypfopt import EfficientFrontier, risk_models, expected_returns, plotting\n",
    "\n",
    "mu = expected_returns.mean_historical_return(df, frequency=252)"
   ]
  },
  {
   "cell_type": "code",
   "execution_count": 161,
   "metadata": {},
   "outputs": [
    {
     "data": {
      "text/html": [
       "<div>\n",
       "<style scoped>\n",
       "    .dataframe tbody tr th:only-of-type {\n",
       "        vertical-align: middle;\n",
       "    }\n",
       "\n",
       "    .dataframe tbody tr th {\n",
       "        vertical-align: top;\n",
       "    }\n",
       "\n",
       "    .dataframe thead th {\n",
       "        text-align: right;\n",
       "    }\n",
       "</style>\n",
       "<table border=\"1\" class=\"dataframe\">\n",
       "  <thead>\n",
       "    <tr style=\"text-align: right;\">\n",
       "      <th>symbol</th>\n",
       "      <th>AAPL</th>\n",
       "      <th>ALL</th>\n",
       "      <th>JNJ</th>\n",
       "      <th>KHC</th>\n",
       "      <th>MSFT</th>\n",
       "      <th>NVDA</th>\n",
       "    </tr>\n",
       "    <tr>\n",
       "      <th>symbol</th>\n",
       "      <th></th>\n",
       "      <th></th>\n",
       "      <th></th>\n",
       "      <th></th>\n",
       "      <th></th>\n",
       "      <th></th>\n",
       "    </tr>\n",
       "  </thead>\n",
       "  <tbody>\n",
       "    <tr>\n",
       "      <th>AAPL</th>\n",
       "      <td>0.094714</td>\n",
       "      <td>0.033268</td>\n",
       "      <td>0.025207</td>\n",
       "      <td>0.032901</td>\n",
       "      <td>0.064083</td>\n",
       "      <td>0.089718</td>\n",
       "    </tr>\n",
       "    <tr>\n",
       "      <th>ALL</th>\n",
       "      <td>0.033268</td>\n",
       "      <td>0.064595</td>\n",
       "      <td>0.024420</td>\n",
       "      <td>0.033749</td>\n",
       "      <td>0.032841</td>\n",
       "      <td>0.035772</td>\n",
       "    </tr>\n",
       "    <tr>\n",
       "      <th>JNJ</th>\n",
       "      <td>0.025207</td>\n",
       "      <td>0.024420</td>\n",
       "      <td>0.041190</td>\n",
       "      <td>0.024585</td>\n",
       "      <td>0.027249</td>\n",
       "      <td>0.028000</td>\n",
       "    </tr>\n",
       "    <tr>\n",
       "      <th>KHC</th>\n",
       "      <td>0.032901</td>\n",
       "      <td>0.033749</td>\n",
       "      <td>0.024585</td>\n",
       "      <td>0.097620</td>\n",
       "      <td>0.030670</td>\n",
       "      <td>0.035120</td>\n",
       "    </tr>\n",
       "    <tr>\n",
       "      <th>MSFT</th>\n",
       "      <td>0.064083</td>\n",
       "      <td>0.032841</td>\n",
       "      <td>0.027249</td>\n",
       "      <td>0.030670</td>\n",
       "      <td>0.078638</td>\n",
       "      <td>0.089727</td>\n",
       "    </tr>\n",
       "    <tr>\n",
       "      <th>NVDA</th>\n",
       "      <td>0.089718</td>\n",
       "      <td>0.035772</td>\n",
       "      <td>0.028000</td>\n",
       "      <td>0.035120</td>\n",
       "      <td>0.089727</td>\n",
       "      <td>0.228820</td>\n",
       "    </tr>\n",
       "  </tbody>\n",
       "</table>\n",
       "</div>"
      ],
      "text/plain": [
       "symbol      AAPL       ALL       JNJ       KHC      MSFT      NVDA\n",
       "symbol                                                            \n",
       "AAPL    0.094714  0.033268  0.025207  0.032901  0.064083  0.089718\n",
       "ALL     0.033268  0.064595  0.024420  0.033749  0.032841  0.035772\n",
       "JNJ     0.025207  0.024420  0.041190  0.024585  0.027249  0.028000\n",
       "KHC     0.032901  0.033749  0.024585  0.097620  0.030670  0.035120\n",
       "MSFT    0.064083  0.032841  0.027249  0.030670  0.078638  0.089727\n",
       "NVDA    0.089718  0.035772  0.028000  0.035120  0.089727  0.228820"
      ]
     },
     "execution_count": 161,
     "metadata": {},
     "output_type": "execute_result"
    }
   ],
   "source": [
    "S = risk_models.sample_cov(df, frequency=252)"
   ]
  },
  {
   "cell_type": "code",
   "execution_count": 173,
   "metadata": {},
   "outputs": [],
   "source": [
    "ef = EfficientFrontier(mu, S)"
   ]
  },
  {
   "cell_type": "code",
   "execution_count": 174,
   "metadata": {},
   "outputs": [],
   "source": [
    "weights = ef.min_volatility()"
   ]
  },
  {
   "cell_type": "code",
   "execution_count": 175,
   "metadata": {},
   "outputs": [
    {
     "data": {
      "text/plain": [
       "OrderedDict([('AAPL', 0.060617254780653),\n",
       "             ('ALL', 0.1977101574069492),\n",
       "             ('JNJ', 0.577960004405767),\n",
       "             ('KHC', 0.0966182132113338),\n",
       "             ('MSFT', 0.067094370195297),\n",
       "             ('NVDA', 0.0)])"
      ]
     },
     "execution_count": 175,
     "metadata": {},
     "output_type": "execute_result"
    }
   ],
   "source": [
    "weights"
   ]
  },
  {
   "cell_type": "code",
   "execution_count": 176,
   "metadata": {},
   "outputs": [
    {
     "name": "stdout",
     "output_type": "stream",
     "text": [
      "Expected annual return: 8.0%\n",
      "Annual volatility: 18.5%\n",
      "Sharpe Ratio: 0.32\n"
     ]
    },
    {
     "data": {
      "text/plain": [
       "(0.07983792450704413, 0.18538001979798974, 0.322785187811772)"
      ]
     },
     "execution_count": 176,
     "metadata": {},
     "output_type": "execute_result"
    }
   ],
   "source": [
    "ef.portfolio_performance(verbose=True)"
   ]
  }
 ],
 "metadata": {
  "interpreter": {
   "hash": "916dbcbb3f70747c44a77c7bcd40155683ae19c65e1c03b4aa3499c5328201f1"
  },
  "kernelspec": {
   "display_name": "Python 3.8.10 64-bit",
   "language": "python",
   "name": "python3"
  },
  "language_info": {
   "codemirror_mode": {
    "name": "ipython",
    "version": 3
   },
   "file_extension": ".py",
   "mimetype": "text/x-python",
   "name": "python",
   "nbconvert_exporter": "python",
   "pygments_lexer": "ipython3",
   "version": "3.8.10"
  },
  "orig_nbformat": 4
 },
 "nbformat": 4,
 "nbformat_minor": 2
}
