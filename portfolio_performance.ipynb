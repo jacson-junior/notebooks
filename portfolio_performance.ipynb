{
 "cells": [
  {
   "cell_type": "code",
   "execution_count": null,
   "metadata": {},
   "outputs": [],
   "source": [
    "! pip install pandas\n",
    "! pip install PyPortfolioOpt"
   ]
  },
  {
   "cell_type": "code",
   "execution_count": 4,
   "metadata": {},
   "outputs": [],
   "source": [
    "from dotenv import load_dotenv\n",
    "\n",
    "load_dotenv();"
   ]
  },
  {
   "cell_type": "code",
   "execution_count": 5,
   "metadata": {},
   "outputs": [],
   "source": [
    "import requests\n",
    "\n",
    "iex_env = os.environ.get(\"IEX_ENV\", \"cloud\")\n",
    "iex_token = os.environ.get(\"IEX_TOKEN\", \"\")\n",
    "\n",
    "def get_prices(symbol, date_param='5d'):\n",
    "\n",
    "    url_prefix = f\"https://{iex_env}.iexapis.com/stable/\"\n",
    "\n",
    "    path = f'stock/{symbol}/chart/{date_param}?chartCloseOnly=True&&token={iex_token}'\n",
    "    print(f\"Fetching {date_param} data for {symbol}\")\n",
    "    full_url = requests.compat.urljoin(url_prefix, path)\n",
    "\n",
    "    try:\n",
    "        resp = requests.get(full_url)\n",
    "    except Exception as e:\n",
    "        print(f\"Exception {e} occurred!\")\n",
    "        return None\n",
    "\n",
    "    if resp.status_code != 200:\n",
    "        print(f\"Uh oh, something's wrong! Response code {resp.status_code} received.\")\n",
    "        return resp\n",
    "\n",
    "    else:\n",
    "        print(f\"Got the data\")\n",
    "        return resp"
   ]
  },
  {
   "cell_type": "code",
   "execution_count": 6,
   "metadata": {},
   "outputs": [],
   "source": [
    "import os\n",
    "import json\n",
    "\n",
    "def get_cached_prices(symbol, date_range, outpath):\n",
    "    if not os.path.exists(outpath):\n",
    "        resp = get_prices(symbol, date_param=date_range)\n",
    "        if resp is not None:\n",
    "            prices_obj = json.loads(resp.text)\n",
    "            with open(outpath, \"w\") as f:\n",
    "                json.dump(prices_obj, f)\n",
    "            return prices_obj\n",
    "    else:\n",
    "        with open(outpath, \"r\") as f:\n",
    "            data_obj = json.load(f)\n",
    "        return data_obj"
   ]
  },
  {
   "cell_type": "code",
   "execution_count": 7,
   "metadata": {},
   "outputs": [],
   "source": [
    "symbols = [\"MSFT\", \"AAPL\", \"NVDA\", \"JNJ\", \"KHC\", \"ALL\"]"
   ]
  },
  {
   "cell_type": "code",
   "execution_count": 8,
   "metadata": {},
   "outputs": [],
   "source": [
    "def getDf(symbol, data):\n",
    "    df = pd.DataFrame(data)\n",
    "    df = df[['date', 'close']]\n",
    "    df['date'] = pd.to_datetime(df.date)\n",
    "    df.columns = ['date', symbol]\n",
    "    df.set_index('date')\n",
    "    return df;"
   ]
  },
  {
   "cell_type": "code",
   "execution_count": null,
   "metadata": {},
   "outputs": [],
   "source": [
    "import pandas as pd\n",
    "\n",
    "date_range = \"5y\"\n",
    "\n",
    "symbols_dict = dict()\n",
    "\n",
    "for symbol in symbols:\n",
    "    outpath = f\"./.data/stocks/{symbol}_{date_range}.json\"\n",
    "    symbols_dict[symbol] = get_cached_prices(symbol, date_range, outpath)"
   ]
  },
  {
   "cell_type": "code",
   "execution_count": 10,
   "metadata": {},
   "outputs": [
    {
     "data": {
      "text/html": [
       "<div>\n",
       "<style scoped>\n",
       "    .dataframe tbody tr th:only-of-type {\n",
       "        vertical-align: middle;\n",
       "    }\n",
       "\n",
       "    .dataframe tbody tr th {\n",
       "        vertical-align: top;\n",
       "    }\n",
       "\n",
       "    .dataframe thead th {\n",
       "        text-align: right;\n",
       "    }\n",
       "</style>\n",
       "<table border=\"1\" class=\"dataframe\">\n",
       "  <thead>\n",
       "    <tr style=\"text-align: right;\">\n",
       "      <th>symbol</th>\n",
       "      <th>AAPL</th>\n",
       "      <th>ALL</th>\n",
       "      <th>JNJ</th>\n",
       "      <th>KHC</th>\n",
       "      <th>MSFT</th>\n",
       "      <th>NVDA</th>\n",
       "    </tr>\n",
       "    <tr>\n",
       "      <th>date</th>\n",
       "      <th></th>\n",
       "      <th></th>\n",
       "      <th></th>\n",
       "      <th></th>\n",
       "      <th></th>\n",
       "      <th></th>\n",
       "    </tr>\n",
       "  </thead>\n",
       "  <tbody>\n",
       "    <tr>\n",
       "      <th>2017-03-10</th>\n",
       "      <td>35.2840</td>\n",
       "      <td>85.96</td>\n",
       "      <td>130.96</td>\n",
       "      <td>95.93</td>\n",
       "      <td>67.13</td>\n",
       "      <td>25.1000</td>\n",
       "    </tr>\n",
       "    <tr>\n",
       "      <th>2017-03-13</th>\n",
       "      <td>35.3000</td>\n",
       "      <td>84.70</td>\n",
       "      <td>130.78</td>\n",
       "      <td>91.76</td>\n",
       "      <td>66.48</td>\n",
       "      <td>25.8382</td>\n",
       "    </tr>\n",
       "    <tr>\n",
       "      <th>2017-03-14</th>\n",
       "      <td>35.0005</td>\n",
       "      <td>85.90</td>\n",
       "      <td>133.28</td>\n",
       "      <td>93.19</td>\n",
       "      <td>65.37</td>\n",
       "      <td>26.0420</td>\n",
       "    </tr>\n",
       "    <tr>\n",
       "      <th>2017-03-15</th>\n",
       "      <td>35.1480</td>\n",
       "      <td>86.67</td>\n",
       "      <td>134.64</td>\n",
       "      <td>93.14</td>\n",
       "      <td>67.80</td>\n",
       "      <td>26.1975</td>\n",
       "    </tr>\n",
       "    <tr>\n",
       "      <th>2017-03-16</th>\n",
       "      <td>35.4757</td>\n",
       "      <td>84.19</td>\n",
       "      <td>130.12</td>\n",
       "      <td>95.46</td>\n",
       "      <td>67.74</td>\n",
       "      <td>26.4165</td>\n",
       "    </tr>\n",
       "    <tr>\n",
       "      <th>...</th>\n",
       "      <td>...</td>\n",
       "      <td>...</td>\n",
       "      <td>...</td>\n",
       "      <td>...</td>\n",
       "      <td>...</td>\n",
       "      <td>...</td>\n",
       "    </tr>\n",
       "    <tr>\n",
       "      <th>2022-03-02</th>\n",
       "      <td>173.3500</td>\n",
       "      <td>125.24</td>\n",
       "      <td>168.84</td>\n",
       "      <td>39.26</td>\n",
       "      <td>310.56</td>\n",
       "      <td>251.2000</td>\n",
       "    </tr>\n",
       "    <tr>\n",
       "      <th>2022-03-03</th>\n",
       "      <td>168.2100</td>\n",
       "      <td>130.59</td>\n",
       "      <td>174.35</td>\n",
       "      <td>41.81</td>\n",
       "      <td>303.21</td>\n",
       "      <td>246.5800</td>\n",
       "    </tr>\n",
       "    <tr>\n",
       "      <th>2022-03-04</th>\n",
       "      <td>168.5300</td>\n",
       "      <td>133.29</td>\n",
       "      <td>170.97</td>\n",
       "      <td>41.17</td>\n",
       "      <td>297.25</td>\n",
       "      <td>238.7200</td>\n",
       "    </tr>\n",
       "    <tr>\n",
       "      <th>2022-03-07</th>\n",
       "      <td>163.0000</td>\n",
       "      <td>127.51</td>\n",
       "      <td>177.61</td>\n",
       "      <td>40.24</td>\n",
       "      <td>292.37</td>\n",
       "      <td>222.0700</td>\n",
       "    </tr>\n",
       "    <tr>\n",
       "      <th>2022-03-08</th>\n",
       "      <td>163.0400</td>\n",
       "      <td>126.20</td>\n",
       "      <td>175.77</td>\n",
       "      <td>40.16</td>\n",
       "      <td>281.15</td>\n",
       "      <td>215.8500</td>\n",
       "    </tr>\n",
       "  </tbody>\n",
       "</table>\n",
       "<p>1258 rows × 6 columns</p>\n",
       "</div>"
      ],
      "text/plain": [
       "symbol          AAPL     ALL     JNJ    KHC    MSFT      NVDA\n",
       "date                                                         \n",
       "2017-03-10   35.2840   85.96  130.96  95.93   67.13   25.1000\n",
       "2017-03-13   35.3000   84.70  130.78  91.76   66.48   25.8382\n",
       "2017-03-14   35.0005   85.90  133.28  93.19   65.37   26.0420\n",
       "2017-03-15   35.1480   86.67  134.64  93.14   67.80   26.1975\n",
       "2017-03-16   35.4757   84.19  130.12  95.46   67.74   26.4165\n",
       "...              ...     ...     ...    ...     ...       ...\n",
       "2022-03-02  173.3500  125.24  168.84  39.26  310.56  251.2000\n",
       "2022-03-03  168.2100  130.59  174.35  41.81  303.21  246.5800\n",
       "2022-03-04  168.5300  133.29  170.97  41.17  297.25  238.7200\n",
       "2022-03-07  163.0000  127.51  177.61  40.24  292.37  222.0700\n",
       "2022-03-08  163.0400  126.20  175.77  40.16  281.15  215.8500\n",
       "\n",
       "[1258 rows x 6 columns]"
      ]
     },
     "execution_count": 10,
     "metadata": {},
     "output_type": "execute_result"
    }
   ],
   "source": [
    "import utils\n",
    "\n",
    "df = utils.symbol_dict_to_df(symbols_dict)\n",
    "df['date'] = pd.to_datetime(df.date)\n",
    "df = df.pivot_table(values='close', index='date', columns='symbol', aggfunc='last')\n",
    "df"
   ]
  },
  {
   "cell_type": "code",
   "execution_count": 11,
   "metadata": {},
   "outputs": [],
   "source": [
    "from pypfopt import EfficientFrontier, risk_models, expected_returns, plotting\n",
    "\n",
    "mu = expected_returns.mean_historical_return(df, frequency=252)"
   ]
  },
  {
   "cell_type": "code",
   "execution_count": 12,
   "metadata": {},
   "outputs": [],
   "source": [
    "S = risk_models.sample_cov(df, frequency=252)"
   ]
  },
  {
   "cell_type": "code",
   "execution_count": 13,
   "metadata": {},
   "outputs": [],
   "source": [
    "ef = EfficientFrontier(mu, S)"
   ]
  },
  {
   "cell_type": "code",
   "execution_count": 14,
   "metadata": {},
   "outputs": [
    {
     "data": {
      "text/plain": [
       "OrderedDict([('AAPL', 0.1378645379815755),\n",
       "             ('ALL', 0.2279367134048076),\n",
       "             ('JNJ', 0.2812347586318125),\n",
       "             ('KHC', 0.1732130572451437),\n",
       "             ('MSFT', 0.1566960269138146),\n",
       "             ('NVDA', 0.023054905822846)])"
      ]
     },
     "execution_count": 14,
     "metadata": {},
     "output_type": "execute_result"
    }
   ],
   "source": [
    "weights = ef.min_volatility()\n",
    "weights"
   ]
  },
  {
   "cell_type": "code",
   "execution_count": 15,
   "metadata": {},
   "outputs": [
    {
     "name": "stdout",
     "output_type": "stream",
     "text": [
      "Expected annual return: 12.2%\n",
      "Annual volatility: 24.4%\n",
      "Sharpe Ratio: 0.42\n"
     ]
    },
    {
     "data": {
      "text/plain": [
       "(0.12165003373853475, 0.24443386184033192, 0.4158590506782328)"
      ]
     },
     "execution_count": 15,
     "metadata": {},
     "output_type": "execute_result"
    }
   ],
   "source": [
    "ef.portfolio_performance(verbose=True)"
   ]
  }
 ],
 "metadata": {
  "interpreter": {
   "hash": "916dbcbb3f70747c44a77c7bcd40155683ae19c65e1c03b4aa3499c5328201f1"
  },
  "kernelspec": {
   "display_name": "Python 3.8.10 64-bit",
   "language": "python",
   "name": "python3"
  },
  "language_info": {
   "codemirror_mode": {
    "name": "ipython",
    "version": 3
   },
   "file_extension": ".py",
   "mimetype": "text/x-python",
   "name": "python",
   "nbconvert_exporter": "python",
   "pygments_lexer": "ipython3",
   "version": "3.7.12"
  },
  "orig_nbformat": 4
 },
 "nbformat": 4,
 "nbformat_minor": 2
}
