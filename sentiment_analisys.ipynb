{
 "cells": [
  {
   "cell_type": "code",
   "execution_count": 3,
   "metadata": {},
   "outputs": [
    {
     "name": "stdout",
     "output_type": "stream",
     "text": [
      "Defaulting to user installation because normal site-packages is not writeable\n",
      "Requirement already satisfied: torchtext in /home/jacsongsj/.local/lib/python3.8/site-packages (0.11.2)\n",
      "Requirement already satisfied: requests in /usr/lib/python3/dist-packages (from torchtext) (2.22.0)\n",
      "Requirement already satisfied: tqdm in /home/jacsongsj/.local/lib/python3.8/site-packages (from torchtext) (4.63.0)\n",
      "Requirement already satisfied: numpy in /home/jacsongsj/.local/lib/python3.8/site-packages (from torchtext) (1.22.2)\n",
      "Requirement already satisfied: torch==1.10.2 in /home/jacsongsj/.local/lib/python3.8/site-packages (from torchtext) (1.10.2)\n",
      "Requirement already satisfied: typing-extensions in /home/jacsongsj/.local/lib/python3.8/site-packages (from torch==1.10.2->torchtext) (4.1.1)\n",
      "/bin/python3: No module named spacy\n",
      "Defaulting to user installation because normal site-packages is not writeable\n",
      "Requirement already satisfied: transformers in /home/jacsongsj/.local/lib/python3.8/site-packages (4.17.0)\n",
      "Requirement already satisfied: sacremoses in /home/jacsongsj/.local/lib/python3.8/site-packages (from transformers) (0.0.47)\n",
      "Requirement already satisfied: tokenizers!=0.11.3,>=0.11.1 in /home/jacsongsj/.local/lib/python3.8/site-packages (from transformers) (0.11.6)\n",
      "Requirement already satisfied: tqdm>=4.27 in /home/jacsongsj/.local/lib/python3.8/site-packages (from transformers) (4.63.0)\n",
      "Requirement already satisfied: filelock in /home/jacsongsj/.local/lib/python3.8/site-packages (from transformers) (3.6.0)\n",
      "Requirement already satisfied: numpy>=1.17 in /home/jacsongsj/.local/lib/python3.8/site-packages (from transformers) (1.22.2)\n",
      "Requirement already satisfied: huggingface-hub<1.0,>=0.1.0 in /home/jacsongsj/.local/lib/python3.8/site-packages (from transformers) (0.4.0)\n",
      "Requirement already satisfied: requests in /usr/lib/python3/dist-packages (from transformers) (2.22.0)\n",
      "Requirement already satisfied: pyyaml>=5.1 in /usr/lib/python3/dist-packages (from transformers) (5.3.1)\n",
      "Requirement already satisfied: packaging>=20.0 in /home/jacsongsj/.local/lib/python3.8/site-packages (from transformers) (21.3)\n",
      "Requirement already satisfied: regex!=2019.12.17 in /home/jacsongsj/.local/lib/python3.8/site-packages (from transformers) (2022.3.2)\n",
      "Requirement already satisfied: typing-extensions>=3.7.4.3 in /home/jacsongsj/.local/lib/python3.8/site-packages (from huggingface-hub<1.0,>=0.1.0->transformers) (4.1.1)\n",
      "Requirement already satisfied: pyparsing!=3.0.5,>=2.0.2 in /home/jacsongsj/.local/lib/python3.8/site-packages (from packaging>=20.0->transformers) (3.0.7)\n",
      "Requirement already satisfied: six in /usr/lib/python3/dist-packages (from sacremoses->transformers) (1.14.0)\n",
      "Requirement already satisfied: joblib in /home/jacsongsj/.local/lib/python3.8/site-packages (from sacremoses->transformers) (1.1.0)\n",
      "Requirement already satisfied: click in /usr/lib/python3/dist-packages (from sacremoses->transformers) (7.0)\n"
     ]
    }
   ],
   "source": [
    "! pip install torchtext\n",
    "! python3 -m spacy download en_core_web_sm\n",
    "! pip install transformers"
   ]
  },
  {
   "cell_type": "code",
   "execution_count": 7,
   "metadata": {},
   "outputs": [
    {
     "data": {
      "text/plain": [
       "<torchtext.legacy.data.field.Field at 0x7f73e87667f0>"
      ]
     },
     "execution_count": 7,
     "metadata": {},
     "output_type": "execute_result"
    }
   ],
   "source": [
    "import torch\n",
    "from torchtext.legacy import data\n",
    "\n",
    "SEED = 1234\n",
    "\n",
    "torch.manual_seed(SEED)\n",
    "torch.backends.cudnn.deterministic = True\n",
    "\n",
    "TEXT = data.Field(tokenize = 'spacy',\n",
    "                  tokenizer_language = 'en_core_web_sm')\n",
    "LABEL = data.LabelField(dtype = torch.float)"
   ]
  },
  {
   "cell_type": "code",
   "execution_count": 8,
   "metadata": {},
   "outputs": [
    {
     "name": "stdout",
     "output_type": "stream",
     "text": [
      "downloading aclImdb_v1.tar.gz\n"
     ]
    },
    {
     "name": "stderr",
     "output_type": "stream",
     "text": [
      "100%|██████████| 84.1M/84.1M [00:12<00:00, 6.55MB/s]\n"
     ]
    }
   ],
   "source": [
    "from torchtext.legacy import datasets\n",
    "\n",
    "train_data, test_data = datasets.IMDB.splits(TEXT, LABEL)"
   ]
  },
  {
   "cell_type": "code",
   "execution_count": 10,
   "metadata": {},
   "outputs": [
    {
     "name": "stdout",
     "output_type": "stream",
     "text": [
      "Number of training examples: 25000\n",
      "Number of testing examples: 25000\n",
      "{'text': ['This', 'is', 'a', 'really', 'interesting', 'movie', '.', 'It', 'is', 'an', 'action', 'movie', 'with', 'comedy', 'mixed', 'in', '.', 'Foxx', 'teams', 'up', 'with', 'comedian', 'Epps', 'in', 'this', 'movie', 'to', 'give', 'it', 'a', 'comedic', 'spin', '.', 'It', 'will', 'keep', 'you', 'wondering', 'what', 's', 'going', 'to', 'happen', 'to', 'Foxx', 'next', '.', 'It', 'was', 'a', 'well', 'shot', 'movie', ',', 'the', 'director', 'used', 'the', 'right', 'colors', 'in', 'this', 'movie(dark', 'blue', 'colors', ')', 'to', 'give', 'it', 'the', 'right', 'kind', 'of', 'feel', '.', 'Kimberly', 'Elise', 'also', 'starred', 'in', 'this', 'movie', 'and', 'it', 'is', 'always', 'a', 'pleasure', 'to', 'see', 'her', 'on', 'the', 'big', 'screen', '.', 'She', 'plays', 'her', 'role', 'well', '.', 'Even', 'Jamie', 'Kennedy', 'is', 'in', 'this', 'movie', '.', 'It', \"'s\", 'worth', 'seeing', 'it', 'you', 'have', \"n't\", 'seen', 'it', '.', 'It', \"'s\", 'definitely', 'worth', 'having', 'if', 'you', 'are', 'a', 'Jamie', 'Foxx', 'fan', '.', 'It', 'deserves', 'more', 'credit', 'than', 'it', 'is', 'actually', 'given', '.'], 'label': 'pos'}\n"
     ]
    }
   ],
   "source": [
    "print(f'Number of training examples: {len(train_data)}')\n",
    "print(f'Number of testing examples: {len(test_data)}')\n",
    "print(vars(train_data.examples[0]))"
   ]
  }
 ],
 "metadata": {
  "interpreter": {
   "hash": "916dbcbb3f70747c44a77c7bcd40155683ae19c65e1c03b4aa3499c5328201f1"
  },
  "kernelspec": {
   "display_name": "Python 3.8.10 64-bit",
   "language": "python",
   "name": "python3"
  },
  "language_info": {
   "codemirror_mode": {
    "name": "ipython",
    "version": 3
   },
   "file_extension": ".py",
   "mimetype": "text/x-python",
   "name": "python",
   "nbconvert_exporter": "python",
   "pygments_lexer": "ipython3",
   "version": "3.8.10"
  },
  "orig_nbformat": 4
 },
 "nbformat": 4,
 "nbformat_minor": 2
}
